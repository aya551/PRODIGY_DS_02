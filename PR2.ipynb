{
 "cells": [
  {
   "cell_type": "code",
   "execution_count": null,
   "metadata": {},
   "outputs": [],
   "source": [
    "import pandas as pd\n",
    "import numpy as np\n",
    "\n",
    "# Load the dataset (replace 'your_dataset.csv' with your file path)\n",
    "data = pd.read_csv('your_dataset.csv')\n",
    "\n",
    "# View the first few rows of the data\n",
    "print(\"First few rows of the dataset:\")\n",
    "print(data.head())\n",
    "\n",
    "# 1. Handle missing values (already explained earlier)\n",
    "# Fill missing 'Age' values with median\n",
    "median_age = data['Age'].median()\n",
    "data['Age'].fillna(median_age, inplace=True)\n",
    "\n",
    "# Fill missing 'Embarked' values with mode\n",
    "most_common_embarked = data['Embarked'].mode()[0]\n",
    "data['Embarked'].fillna(most_common_embarked, inplace=True)\n",
    "\n",
    "# Drop 'Cabin' column due to too many missing values\n",
    "data.drop(columns=['Cabin'], inplace=True)\n",
    "\n",
    "# Fill missing 'Fare' values with median (if any)\n",
    "median_fare = data['Fare'].median()\n",
    "data['Fare'].fillna(median_fare, inplace=True)\n",
    "\n",
    "# 2. Check and remove duplicates\n",
    "# Check for duplicate rows\n",
    "print(\"\\nChecking for duplicate rows...\")\n",
    "duplicates = data.duplicated().sum()\n",
    "print(f\"Number of duplicate rows: {duplicates}\")"
   ]
  }
 ],
 "metadata": {
  "language_info": {
   "name": "python"
  }
 },
 "nbformat": 4,
 "nbformat_minor": 2
}
